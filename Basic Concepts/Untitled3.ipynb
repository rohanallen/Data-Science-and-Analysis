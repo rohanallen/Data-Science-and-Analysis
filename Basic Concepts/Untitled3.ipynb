{
 "cells": [
  {
   "cell_type": "code",
   "execution_count": null,
   "metadata": {},
   "outputs": [],
   "source": [
    "from scapy.all import *\n",
    "import base64\n",
    "\n",
    "network_packets = rdpcap('C://Users//DELL//Desktop//exp1.pcap')\n",
    "network_packets.summary()\n",
    "network_packets.sessions()\n",
    "network_packets.show()\n",
    "decoded_commands = []\n",
    "decoded_data =\"\"\n",
    "for packet in network_packets:\n",
    "    if DNSQR in packet:\n",
    "        if packet[DNS].id == 0x1337:\n",
    "            decoded_data = base64.b64decode(str(packet[DNS].an.rdata))\n",
    "        if 'FILE:' in decoded_data:\n",
    "            continue\n",
    "        else:\n",
    "            decoded_commands.append(decoded_data)\n",
    "for command in decoded_commands:\n",
    "    if len(command)>1:\n",
    "         print(command.rstrip())"
   ]
  }
 ],
 "metadata": {
  "kernelspec": {
   "display_name": "Python 3",
   "language": "python",
   "name": "python3"
  },
  "language_info": {
   "codemirror_mode": {
    "name": "ipython",
    "version": 3
   },
   "file_extension": ".py",
   "mimetype": "text/x-python",
   "name": "python",
   "nbconvert_exporter": "python",
   "pygments_lexer": "ipython3",
   "version": "3.7.6"
  }
 },
 "nbformat": 4,
 "nbformat_minor": 4
}
