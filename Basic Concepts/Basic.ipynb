{
 "cells": [
  {
   "cell_type": "markdown",
   "metadata": {},
   "source": [
    "# Basic Shiz"
   ]
  },
  {
   "cell_type": "markdown",
   "metadata": {},
   "source": [
    "##123\n"
   ]
  },
  {
   "cell_type": "code",
   "execution_count": 3,
   "metadata": {},
   "outputs": [
    {
     "data": {
      "text/plain": [
       "7"
      ]
     },
     "execution_count": 3,
     "metadata": {},
     "output_type": "execute_result"
    }
   ],
   "source": [
    "x=4\n",
    "y=3\n",
    "x+y\n",
    "##123"
   ]
  },
  {
   "cell_type": "code",
   "execution_count": 4,
   "metadata": {},
   "outputs": [
    {
     "data": {
      "text/plain": [
       "20"
      ]
     },
     "execution_count": 4,
     "metadata": {},
     "output_type": "execute_result"
    }
   ],
   "source": [
    "#func\n",
    "def add(x,y):\n",
    "    return x+y\n",
    "add(5,15)"
   ]
  },
  {
   "cell_type": "code",
   "execution_count": 5,
   "metadata": {},
   "outputs": [
    {
     "name": "stdout",
     "output_type": "stream",
     "text": [
      "3\n",
      "6\n"
     ]
    }
   ],
   "source": [
    "def add(x,y,z=None):\n",
    "    if(z==None):\n",
    "        return x+y\n",
    "    else:\n",
    "        return x+y+z\n",
    "print(add(1,2))\n",
    "a=add(1,2,3)\n",
    "print(a)"
   ]
  },
  {
   "cell_type": "code",
   "execution_count": 6,
   "metadata": {},
   "outputs": [
    {
     "name": "stdout",
     "output_type": "stream",
     "text": [
      "['Christopher', 'Arthur', 'Hansen', 'Brooks']\n",
      "Brooks\n"
     ]
    }
   ],
   "source": [
    "firstname = 'Christopher Arthur Hansen Brooks'.split(' ') #[0] selects the first elenmente list\n",
    "lastname = 'Christopher Arthur Hansen Brooks'.split(' ')[-1] # [-1] selects the last element of the list\n",
    "print(firstname)\n",
    "print(lastname)"
   ]
  },
  {
   "cell_type": "code",
   "execution_count": 2,
   "metadata": {},
   "outputs": [],
   "source": [
    "x = {'Christopher Brooks': 'brooksch@umich.edu', 'Bill Gates': 'billg@microsoft.com'}\n"
   ]
  },
  {
   "cell_type": "code",
   "execution_count": 3,
   "metadata": {},
   "outputs": [
    {
     "data": {
      "text/plain": [
       "'billg@microsoft.com'"
      ]
     },
     "execution_count": 3,
     "metadata": {},
     "output_type": "execute_result"
    }
   ],
   "source": [
    "x['Bill Gates']"
   ]
  },
  {
   "cell_type": "code",
   "execution_count": 4,
   "metadata": {},
   "outputs": [
    {
     "name": "stdout",
     "output_type": "stream",
     "text": [
      "Christopher Brooks\n",
      "Bill Gates\n"
     ]
    }
   ],
   "source": [
    "for n in x:\n",
    "    print(n)"
   ]
  },
  {
   "cell_type": "code",
   "execution_count": 5,
   "metadata": {},
   "outputs": [
    {
     "name": "stdout",
     "output_type": "stream",
     "text": [
      "('Christopher Brooks', 'brooksch@umich.edu')\n",
      "('Bill Gates', 'billg@microsoft.com')\n"
     ]
    }
   ],
   "source": [
    "for n in x.items():\n",
    "    print(n)"
   ]
  },
  {
   "cell_type": "code",
   "execution_count": 5,
   "metadata": {},
   "outputs": [
    {
     "name": "stdout",
     "output_type": "stream",
     "text": [
      "('Christopher Brooks', 'brooksch@umich.edu')\n",
      "('Bill Gates', 'billg@microsoft.com')\n"
     ]
    }
   ],
   "source": [
    "for n in x.items():\n",
    "    print(n)"
   ]
  },
  {
   "cell_type": "code",
   "execution_count": 6,
   "metadata": {},
   "outputs": [
    {
     "data": {
      "text/plain": [
       "str"
      ]
     },
     "execution_count": 6,
     "metadata": {},
     "output_type": "execute_result"
    }
   ],
   "source": [
    "type('1')"
   ]
  },
  {
   "cell_type": "code",
   "execution_count": 8,
   "metadata": {},
   "outputs": [
    {
     "name": "stdout",
     "output_type": "stream",
     "text": [
      "[1, 2, 3]\n",
      "<class 'list'>\n"
     ]
    }
   ],
   "source": [
    "x=[1,2,3]\n",
    "print(x)\n",
    "print(type(x))"
   ]
  },
  {
   "cell_type": "code",
   "execution_count": 9,
   "metadata": {},
   "outputs": [
    {
     "name": "stdout",
     "output_type": "stream",
     "text": [
      "smd\n"
     ]
    }
   ],
   "source": [
    "if 1 in[1,2,3]:\n",
    "    print(\"smd\")\n",
    "else:\n",
    "    print('smdfb')\n",
    "    "
   ]
  },
  {
   "cell_type": "code",
   "execution_count": 10,
   "metadata": {},
   "outputs": [],
   "source": [
    "a=[1]"
   ]
  },
  {
   "cell_type": "code",
   "execution_count": 11,
   "metadata": {},
   "outputs": [
    {
     "data": {
      "text/plain": [
       "[1, 1, 1]"
      ]
     },
     "execution_count": 11,
     "metadata": {},
     "output_type": "execute_result"
    }
   ],
   "source": [
    "a*3"
   ]
  },
  {
   "cell_type": "code",
   "execution_count": 12,
   "metadata": {},
   "outputs": [],
   "source": [
    "a.append(3)"
   ]
  },
  {
   "cell_type": "code",
   "execution_count": 13,
   "metadata": {},
   "outputs": [
    {
     "data": {
      "text/plain": [
       "[1, 3]"
      ]
     },
     "execution_count": 13,
     "metadata": {},
     "output_type": "execute_result"
    }
   ],
   "source": [
    "a"
   ]
  },
  {
   "cell_type": "code",
   "execution_count": 18,
   "metadata": {},
   "outputs": [
    {
     "data": {
      "text/plain": [
       "[1, 3, 1, 7, 1, 7]"
      ]
     },
     "execution_count": 18,
     "metadata": {},
     "output_type": "execute_result"
    }
   ],
   "source": [
    "a+[1,7]"
   ]
  },
  {
   "cell_type": "code",
   "execution_count": 1,
   "metadata": {},
   "outputs": [
    {
     "data": {
      "text/plain": [
       "6"
      ]
     },
     "execution_count": 1,
     "metadata": {},
     "output_type": "execute_result"
    }
   ],
   "source": [
    "func=lambda a,b,c:a+b+c\n",
    "func(1,2,3)"
   ]
  },
  {
   "cell_type": "code",
   "execution_count": 2,
   "metadata": {},
   "outputs": [
    {
     "data": {
      "text/plain": [
       "[0,\n",
       " 2,\n",
       " 4,\n",
       " 6,\n",
       " 8,\n",
       " 10,\n",
       " 12,\n",
       " 14,\n",
       " 16,\n",
       " 18,\n",
       " 20,\n",
       " 22,\n",
       " 24,\n",
       " 26,\n",
       " 28,\n",
       " 30,\n",
       " 32,\n",
       " 34,\n",
       " 36,\n",
       " 38,\n",
       " 40,\n",
       " 42,\n",
       " 44,\n",
       " 46,\n",
       " 48,\n",
       " 50,\n",
       " 52,\n",
       " 54,\n",
       " 56,\n",
       " 58,\n",
       " 60,\n",
       " 62,\n",
       " 64,\n",
       " 66,\n",
       " 68,\n",
       " 70,\n",
       " 72,\n",
       " 74,\n",
       " 76,\n",
       " 78,\n",
       " 80,\n",
       " 82,\n",
       " 84,\n",
       " 86,\n",
       " 88,\n",
       " 90,\n",
       " 92,\n",
       " 94,\n",
       " 96,\n",
       " 98]"
      ]
     },
     "execution_count": 2,
     "metadata": {},
     "output_type": "execute_result"
    }
   ],
   "source": [
    "l=[]\n",
    "for i in range(0,100):\n",
    "    if(i%2==0):\n",
    "        l.append(i)\n",
    "    else:\n",
    "        continue\n",
    "l"
   ]
  },
  {
   "cell_type": "code",
   "execution_count": 3,
   "metadata": {},
   "outputs": [
    {
     "data": {
      "text/plain": [
       "[2,\n",
       " 4,\n",
       " 6,\n",
       " 8,\n",
       " 10,\n",
       " 12,\n",
       " 14,\n",
       " 16,\n",
       " 18,\n",
       " 20,\n",
       " 22,\n",
       " 24,\n",
       " 26,\n",
       " 28,\n",
       " 30,\n",
       " 32,\n",
       " 34,\n",
       " 36,\n",
       " 38,\n",
       " 40,\n",
       " 42,\n",
       " 44,\n",
       " 46,\n",
       " 48,\n",
       " 50,\n",
       " 52,\n",
       " 54,\n",
       " 56,\n",
       " 58,\n",
       " 60,\n",
       " 62,\n",
       " 64,\n",
       " 66,\n",
       " 68,\n",
       " 70,\n",
       " 72,\n",
       " 74,\n",
       " 76,\n",
       " 78,\n",
       " 80,\n",
       " 82,\n",
       " 84,\n",
       " 86,\n",
       " 88,\n",
       " 90,\n",
       " 92,\n",
       " 94,\n",
       " 96,\n",
       " 98]"
      ]
     },
     "execution_count": 3,
     "metadata": {},
     "output_type": "execute_result"
    }
   ],
   "source": [
    "l=[i for i in range(1,100) if i%2==0]\n",
    "l"
   ]
  },
  {
   "cell_type": "code",
   "execution_count": 5,
   "metadata": {},
   "outputs": [
    {
     "name": "stdout",
     "output_type": "stream",
     "text": [
      "2\n",
      "4\n",
      "8\n",
      "890\n"
     ]
    }
   ],
   "source": [
    "s=[1,4,8,90]\n",
    "q=[2,2,6,890]\n",
    "m=map(max,s,q)\n",
    "for i in m:\n",
    "    print (i)"
   ]
  },
  {
   "cell_type": "code",
   "execution_count": 6,
   "metadata": {},
   "outputs": [],
   "source": [
    "import numpy as np\n",
    "import math"
   ]
  },
  {
   "cell_type": "code",
   "execution_count": 10,
   "metadata": {},
   "outputs": [
    {
     "name": "stdout",
     "output_type": "stream",
     "text": [
      "[[1 2 3]\n",
      " [4 5 6]]\n"
     ]
    }
   ],
   "source": [
    "a=np.array([[1,2,3],[4,5,6]])\n",
    "print(a)"
   ]
  },
  {
   "cell_type": "code",
   "execution_count": 12,
   "metadata": {},
   "outputs": [
    {
     "data": {
      "text/plain": [
       "2"
      ]
     },
     "execution_count": 12,
     "metadata": {},
     "output_type": "execute_result"
    }
   ],
   "source": [
    "a.ndim"
   ]
  },
  {
   "cell_type": "code",
   "execution_count": 16,
   "metadata": {},
   "outputs": [
    {
     "data": {
      "text/plain": [
       "'int32'"
      ]
     },
     "execution_count": 16,
     "metadata": {},
     "output_type": "execute_result"
    }
   ],
   "source": [
    "a.dtype.name"
   ]
  },
  {
   "cell_type": "code",
   "execution_count": 14,
   "metadata": {},
   "outputs": [
    {
     "data": {
      "text/plain": [
       "2"
      ]
     },
     "execution_count": 14,
     "metadata": {},
     "output_type": "execute_result"
    }
   ],
   "source": [
    "len(a)"
   ]
  },
  {
   "cell_type": "code",
   "execution_count": 15,
   "metadata": {},
   "outputs": [
    {
     "data": {
      "text/plain": [
       "(2, 3)"
      ]
     },
     "execution_count": 15,
     "metadata": {},
     "output_type": "execute_result"
    }
   ],
   "source": [
    "a.shape"
   ]
  },
  {
   "cell_type": "code",
   "execution_count": 20,
   "metadata": {},
   "outputs": [
    {
     "data": {
      "text/plain": [
       "array([[1., 1., 1., 1., 1., 1., 1., 1.],\n",
       "       [1., 1., 1., 1., 1., 1., 1., 1.]])"
      ]
     },
     "execution_count": 20,
     "metadata": {},
     "output_type": "execute_result"
    }
   ],
   "source": [
    "d=np.ones((2,8))\n",
    "d"
   ]
  },
  {
   "cell_type": "code",
   "execution_count": 26,
   "metadata": {},
   "outputs": [
    {
     "data": {
      "text/plain": [
       "array([[0.99326976, 0.12017632, 0.60353571],\n",
       "       [0.7423486 , 0.41767731, 0.31939185]])"
      ]
     },
     "execution_count": 26,
     "metadata": {},
     "output_type": "execute_result"
    }
   ],
   "source": [
    "np.random.rand(2,3)"
   ]
  },
  {
   "cell_type": "code",
   "execution_count": 30,
   "metadata": {},
   "outputs": [
    {
     "data": {
      "text/plain": [
       "array([ 1,  6, 11, 16, 21, 26, 31, 36, 41, 46, 51, 56, 61, 66, 71, 76, 81,\n",
       "       86, 91, 96])"
      ]
     },
     "execution_count": 30,
     "metadata": {},
     "output_type": "execute_result"
    }
   ],
   "source": [
    "f=np.arange(1,101,5)\n",
    "f"
   ]
  },
  {
   "cell_type": "code",
   "execution_count": 32,
   "metadata": {},
   "outputs": [
    {
     "data": {
      "text/plain": [
       "array([[ -6,   2],\n",
       "       [  1, -10]])"
      ]
     },
     "execution_count": 32,
     "metadata": {},
     "output_type": "execute_result"
    }
   ],
   "source": [
    "a=np.array([[1,2],[2,3]])\n",
    "b=np.array([[7,0],[1,13]])\n",
    "c=a-b\n",
    "c"
   ]
  },
  {
   "cell_type": "code",
   "execution_count": 33,
   "metadata": {},
   "outputs": [
    {
     "name": "stderr",
     "output_type": "stream",
     "text": [
      "C:\\Users\\Rohan\\anaconda3\\lib\\site-packages\\ipykernel_launcher.py:1: RuntimeWarning: divide by zero encountered in true_divide\n",
      "  \"\"\"Entry point for launching an IPython kernel.\n"
     ]
    },
    {
     "data": {
      "text/plain": [
       "array([[0.14285714,        inf],\n",
       "       [2.        , 0.23076923]])"
      ]
     },
     "execution_count": 33,
     "metadata": {},
     "output_type": "execute_result"
    }
   ],
   "source": [
    "c=a/b\n",
    "c"
   ]
  },
  {
   "cell_type": "code",
   "execution_count": 35,
   "metadata": {},
   "outputs": [
    {
     "data": {
      "text/plain": [
       "array([[ 7,  0],\n",
       "       [ 2, 39]])"
      ]
     },
     "execution_count": 35,
     "metadata": {},
     "output_type": "execute_result"
    }
   ],
   "source": [
    "c=a*b\n",
    "c"
   ]
  },
  {
   "cell_type": "code",
   "execution_count": 36,
   "metadata": {},
   "outputs": [
    {
     "data": {
      "text/plain": [
       "array([[ 9, 26],\n",
       "       [17, 39]])"
      ]
     },
     "execution_count": 36,
     "metadata": {},
     "output_type": "execute_result"
    }
   ],
   "source": [
    "c=a@b\n",
    "c"
   ]
  },
  {
   "cell_type": "code",
   "execution_count": 37,
   "metadata": {},
   "outputs": [
    {
     "data": {
      "text/plain": [
       "array([[ 9, 26],\n",
       "       [17, 39]])"
      ]
     },
     "execution_count": 37,
     "metadata": {},
     "output_type": "execute_result"
    }
   ],
   "source": [
    "c>10\n",
    "c"
   ]
  },
  {
   "cell_type": "code",
   "execution_count": 38,
   "metadata": {},
   "outputs": [
    {
     "data": {
      "text/plain": [
       "array([[False,  True],\n",
       "       [ True,  True]])"
      ]
     },
     "execution_count": 38,
     "metadata": {},
     "output_type": "execute_result"
    }
   ],
   "source": [
    "c>10"
   ]
  },
  {
   "cell_type": "code",
   "execution_count": 39,
   "metadata": {},
   "outputs": [
    {
     "data": {
      "text/plain": [
       "array([[False,  True],\n",
       "       [False, False]])"
      ]
     },
     "execution_count": 39,
     "metadata": {},
     "output_type": "execute_result"
    }
   ],
   "source": [
    "c%2==0"
   ]
  },
  {
   "cell_type": "code",
   "execution_count": 40,
   "metadata": {},
   "outputs": [
    {
     "data": {
      "text/plain": [
       "91"
      ]
     },
     "execution_count": 40,
     "metadata": {},
     "output_type": "execute_result"
    }
   ],
   "source": [
    "c.sum()"
   ]
  },
  {
   "cell_type": "code",
   "execution_count": 41,
   "metadata": {},
   "outputs": [
    {
     "data": {
      "text/plain": [
       "39"
      ]
     },
     "execution_count": 41,
     "metadata": {},
     "output_type": "execute_result"
    }
   ],
   "source": [
    "c.max()"
   ]
  },
  {
   "cell_type": "code",
   "execution_count": 42,
   "metadata": {},
   "outputs": [
    {
     "data": {
      "text/plain": [
       "22.75"
      ]
     },
     "execution_count": 42,
     "metadata": {},
     "output_type": "execute_result"
    }
   ],
   "source": [
    "c.mean()"
   ]
  },
  {
   "cell_type": "code",
   "execution_count": 45,
   "metadata": {},
   "outputs": [
    {
     "data": {
      "text/plain": [
       "array([[ 1,  2,  3,  4,  5],\n",
       "       [ 6,  7,  8,  9, 10]])"
      ]
     },
     "execution_count": 45,
     "metadata": {},
     "output_type": "execute_result"
    }
   ],
   "source": [
    "f=np.arange(1,11,1).reshape(2,5)\n",
    "f"
   ]
  },
  {
   "cell_type": "code",
   "execution_count": 46,
   "metadata": {},
   "outputs": [],
   "source": [
    "a=np.array([[1,2,3],[4,5,6]])"
   ]
  },
  {
   "cell_type": "code",
   "execution_count": 47,
   "metadata": {},
   "outputs": [
    {
     "ename": "IndexError",
     "evalue": "index 2 is out of bounds for axis 0 with size 2",
     "output_type": "error",
     "traceback": [
      "\u001b[1;31m---------------------------------------------------------------------------\u001b[0m",
      "\u001b[1;31mIndexError\u001b[0m                                Traceback (most recent call last)",
      "\u001b[1;32m<ipython-input-47-fc907be37984>\u001b[0m in \u001b[0;36m<module>\u001b[1;34m\u001b[0m\n\u001b[1;32m----> 1\u001b[1;33m \u001b[0ma\u001b[0m\u001b[1;33m[\u001b[0m\u001b[1;36m2\u001b[0m\u001b[1;33m]\u001b[0m\u001b[1;33m\u001b[0m\u001b[1;33m\u001b[0m\u001b[0m\n\u001b[0m",
      "\u001b[1;31mIndexError\u001b[0m: index 2 is out of bounds for axis 0 with size 2"
     ]
    }
   ],
   "source": [
    "a[2]"
   ]
  },
  {
   "cell_type": "code",
   "execution_count": 48,
   "metadata": {},
   "outputs": [
    {
     "data": {
      "text/plain": [
       "array([4, 5, 6])"
      ]
     },
     "execution_count": 48,
     "metadata": {},
     "output_type": "execute_result"
    }
   ],
   "source": [
    "a[1]"
   ]
  },
  {
   "cell_type": "code",
   "execution_count": 49,
   "metadata": {},
   "outputs": [
    {
     "data": {
      "text/plain": [
       "6"
      ]
     },
     "execution_count": 49,
     "metadata": {},
     "output_type": "execute_result"
    }
   ],
   "source": [
    "a[1][2]"
   ]
  },
  {
   "cell_type": "code",
   "execution_count": 50,
   "metadata": {},
   "outputs": [
    {
     "data": {
      "text/plain": [
       "array([[1, 2, 3],\n",
       "       [4, 5, 6]])"
      ]
     },
     "execution_count": 50,
     "metadata": {},
     "output_type": "execute_result"
    }
   ],
   "source": [
    "a[:2]"
   ]
  },
  {
   "cell_type": "code",
   "execution_count": 51,
   "metadata": {},
   "outputs": [
    {
     "data": {
      "text/plain": [
       "array([], shape=(0, 3), dtype=int32)"
      ]
     },
     "execution_count": 51,
     "metadata": {},
     "output_type": "execute_result"
    }
   ],
   "source": [
    "a[1:1]"
   ]
  },
  {
   "cell_type": "code",
   "execution_count": 52,
   "metadata": {},
   "outputs": [
    {
     "data": {
      "text/plain": [
       "array([[False, False, False],\n",
       "       [ True,  True,  True]])"
      ]
     },
     "execution_count": 52,
     "metadata": {},
     "output_type": "execute_result"
    }
   ],
   "source": [
    "a>3"
   ]
  },
  {
   "cell_type": "code",
   "execution_count": 53,
   "metadata": {},
   "outputs": [
    {
     "data": {
      "text/plain": [
       "True"
      ]
     },
     "execution_count": 53,
     "metadata": {},
     "output_type": "execute_result"
    }
   ],
   "source": [
    "a[1][2]>3"
   ]
  },
  {
   "cell_type": "code",
   "execution_count": 54,
   "metadata": {},
   "outputs": [
    {
     "data": {
      "text/plain": [
       "array([[3]])"
      ]
     },
     "execution_count": 54,
     "metadata": {},
     "output_type": "execute_result"
    }
   ],
   "source": [
    "a[:1,2:3]"
   ]
  },
  {
   "cell_type": "code",
   "execution_count": 55,
   "metadata": {},
   "outputs": [
    {
     "data": {
      "text/plain": [
       "array([[1, 2, 3],\n",
       "       [4, 5, 6]])"
      ]
     },
     "execution_count": 55,
     "metadata": {},
     "output_type": "execute_result"
    }
   ],
   "source": [
    "a"
   ]
  },
  {
   "cell_type": "code",
   "execution_count": 56,
   "metadata": {},
   "outputs": [
    {
     "data": {
      "text/plain": [
       "array([[3, 2, 3],\n",
       "       [4, 5, 6]])"
      ]
     },
     "execution_count": 56,
     "metadata": {},
     "output_type": "execute_result"
    }
   ],
   "source": [
    "a[0,0]=a[:1,2:3]\n",
    "a"
   ]
  },
  {
   "cell_type": "code",
   "execution_count": 57,
   "metadata": {},
   "outputs": [
    {
     "data": {
      "text/plain": [
       "array([[3, 2, 3],\n",
       "       [4, 5, 6]])"
      ]
     },
     "execution_count": 57,
     "metadata": {},
     "output_type": "execute_result"
    }
   ],
   "source": [
    "a"
   ]
  },
  {
   "cell_type": "code",
   "execution_count": 58,
   "metadata": {},
   "outputs": [
    {
     "data": {
      "text/plain": [
       "array([[False, False, False],\n",
       "       [False, False, False]])"
      ]
     },
     "execution_count": 58,
     "metadata": {},
     "output_type": "execute_result"
    }
   ],
   "source": [
    "a>10"
   ]
  },
  {
   "cell_type": "code",
   "execution_count": 59,
   "metadata": {},
   "outputs": [],
   "source": [
    "import re"
   ]
  },
  {
   "cell_type": "code",
   "execution_count": 63,
   "metadata": {},
   "outputs": [
    {
     "name": "stdout",
     "output_type": "stream",
     "text": [
      "lit\n"
     ]
    }
   ],
   "source": [
    "text=\"GODI AM A GOD\"\n",
    "if (re.match(\"GOD\",text)):\n",
    "    print(\"lit\")\n",
    "else:\n",
    "     print(\"litsmd\")"
   ]
  },
  {
   "cell_type": "code",
   "execution_count": 67,
   "metadata": {},
   "outputs": [
    {
     "data": {
      "text/plain": [
       "['Amy ', 'Amy ', 'Amy ']"
      ]
     },
     "execution_count": 67,
     "metadata": {},
     "output_type": "execute_result"
    }
   ],
   "source": [
    "text = \"Amy works diligently. Amy gets good grades. Our student Amy is succesful.\"\n",
    "re.findall(\"Amy \",text)"
   ]
  },
  {
   "cell_type": "code",
   "execution_count": 77,
   "metadata": {},
   "outputs": [
    {
     "data": {
      "text/plain": [
       "['AA', 'AA', 'AA']"
      ]
     },
     "execution_count": 77,
     "metadata": {},
     "output_type": "execute_result"
    }
   ],
   "source": [
    "grades=\"ACAAAABCBCBAA\"\n",
    "re.findall(\"AA\",grades)"
   ]
  },
  {
   "cell_type": "code",
   "execution_count": 78,
   "metadata": {},
   "outputs": [
    {
     "name": "stdout",
     "output_type": "stream",
     "text": [
      "['bat', 'bot']\n"
     ]
    }
   ],
   "source": [
    "import re\n",
    "string = 'bat, lat, mat, bet, let, met, bit, lit, mit, bot, lot, mot'\n",
    "result = re.findall('b[ao]t', string)\n",
    "print(result)"
   ]
  },
  {
   "cell_type": "code",
   "execution_count": 79,
   "metadata": {},
   "outputs": [],
   "source": [
    "a=np.ones((2,8))"
   ]
  },
  {
   "cell_type": "code",
   "execution_count": 80,
   "metadata": {},
   "outputs": [
    {
     "data": {
      "text/plain": [
       "array([[1., 1., 1., 1., 1., 1., 1., 1.],\n",
       "       [1., 1., 1., 1., 1., 1., 1., 1.]])"
      ]
     },
     "execution_count": 80,
     "metadata": {},
     "output_type": "execute_result"
    }
   ],
   "source": [
    "a"
   ]
  },
  {
   "cell_type": "code",
   "execution_count": 81,
   "metadata": {},
   "outputs": [
    {
     "data": {
      "text/plain": [
       "array([[0.28058133, 0.22470708],\n",
       "       [0.49274245, 0.00375982]])"
      ]
     },
     "execution_count": 81,
     "metadata": {},
     "output_type": "execute_result"
    }
   ],
   "source": [
    "a=np.random.rand(2,2)\n",
    "a"
   ]
  },
  {
   "cell_type": "code",
   "execution_count": 82,
   "metadata": {},
   "outputs": [
    {
     "name": "stdout",
     "output_type": "stream",
     "text": [
      "[[6.51938532e-01 3.09991977e-02 4.78871990e-01 3.90182713e-01\n",
      "  9.59958496e-01 5.86531481e-01 8.42109018e-02 3.64311293e-01\n",
      "  8.91649547e-01 4.29278984e-01 4.29672534e-01 6.14414549e-02\n",
      "  7.34583888e-01 4.99620429e-01 4.75669919e-02 6.64079890e-01\n",
      "  7.41486972e-01 9.39588734e-01 6.05626540e-01 8.08129711e-01]\n",
      " [4.81344319e-02 7.58597586e-01 4.98615618e-01 6.81428173e-01\n",
      "  2.64985550e-01 6.10219406e-01 4.66529234e-01 2.66265402e-01\n",
      "  8.01058972e-01 1.93068667e-01 2.90479882e-01 9.21523225e-01\n",
      "  5.19159927e-01 5.26142561e-01 8.43391242e-01 7.15297207e-01\n",
      "  6.99850226e-01 1.27815858e-01 4.05657252e-01 1.77924492e-01]\n",
      " [5.25559903e-01 4.03891482e-02 9.53204841e-01 5.20615347e-01\n",
      "  9.33202142e-01 7.19209345e-01 2.67356837e-01 7.87449710e-01\n",
      "  7.03696485e-01 5.19533059e-01 5.52205806e-01 1.02838248e-01\n",
      "  2.69896789e-01 7.77865688e-01 7.81346559e-01 8.27165565e-01\n",
      "  1.12209287e-01 6.53726113e-01 2.68542013e-02 3.73524701e-01]\n",
      " [1.28519327e-01 5.84218334e-01 4.69415258e-01 3.45705139e-01\n",
      "  6.19236823e-01 9.69138165e-01 4.42181424e-01 4.09437138e-01\n",
      "  2.27476192e-01 6.04666751e-01 2.27341351e-01 1.16889517e-01\n",
      "  1.36862178e-01 4.16662793e-01 4.83247379e-01 3.21903830e-01\n",
      "  6.51402056e-01 1.36699080e-01 2.61142742e-01 2.31654016e-01]\n",
      " [9.97227587e-01 4.32049998e-01 5.56495864e-01 7.14918847e-01\n",
      "  7.05829266e-01 1.35023345e-02 6.38398128e-01 1.85915911e-01\n",
      "  3.71555420e-01 4.48646289e-01 1.51402454e-01 9.16630589e-01\n",
      "  4.83209693e-01 5.70601389e-01 7.13484312e-01 4.15310535e-01\n",
      "  9.19208577e-01 3.08133529e-01 9.88104970e-01 9.26261597e-01]\n",
      " [4.05188452e-01 3.72203840e-01 7.93056915e-01 5.59604859e-01\n",
      "  9.75077912e-01 1.98338243e-01 8.32647555e-01 2.87758051e-01\n",
      "  5.79814758e-01 1.88732594e-01 3.24406469e-01 7.94205152e-01\n",
      "  6.63273055e-01 7.67751817e-01 3.03418129e-02 3.80102929e-01\n",
      "  7.69047798e-01 7.61626954e-01 8.08278163e-01 7.29145612e-01]\n",
      " [3.71679455e-01 3.84208766e-01 7.10408443e-01 2.84413763e-01\n",
      "  4.59642575e-01 2.57847927e-01 6.31106005e-01 4.29969593e-01\n",
      "  8.25751236e-02 2.80974532e-02 5.80407490e-01 9.81336130e-01\n",
      "  8.25441716e-01 2.93457593e-01 3.96167528e-01 8.15349547e-01\n",
      "  6.21290484e-01 8.98746698e-01 6.15214349e-01 4.27072521e-01]\n",
      " [2.03824899e-01 8.64265202e-02 6.22210637e-02 5.15966612e-01\n",
      "  5.82131532e-01 7.07590547e-01 1.37642506e-01 1.95636516e-01\n",
      "  8.62463358e-01 1.55150159e-01 5.99653347e-01 4.78240908e-01\n",
      "  4.94710518e-01 7.09814747e-01 5.16680408e-02 8.27189158e-01\n",
      "  8.80161696e-01 6.94867384e-01 3.90323930e-01 3.55824126e-01]\n",
      " [6.86628706e-01 6.27325580e-01 7.21694250e-01 7.76882848e-01\n",
      "  6.28023996e-01 3.95779177e-01 5.96001884e-01 3.81759660e-02\n",
      "  4.82734602e-01 5.84868354e-01 3.49522926e-02 5.09703860e-01\n",
      "  4.86217346e-01 8.95064713e-02 8.77531031e-01 1.10247176e-01\n",
      "  1.88537336e-01 4.74406772e-01 4.29958453e-01 6.88366248e-01]\n",
      " [6.91437313e-01 8.27451803e-01 6.94831034e-01 3.06026325e-01\n",
      "  7.40637310e-01 5.98784609e-02 7.59846043e-01 5.52313414e-01\n",
      "  5.89176929e-01 5.45107462e-01 6.20650020e-01 6.79219910e-01\n",
      "  9.69250211e-01 7.35395779e-01 3.45675256e-01 8.23235152e-01\n",
      "  7.78435741e-02 9.76948925e-01 3.02007563e-01 3.32918809e-01]\n",
      " [2.40540390e-01 3.65472511e-01 3.58393699e-01 3.07111106e-02\n",
      "  4.21811388e-01 8.83510896e-01 2.78807925e-01 7.55744700e-02\n",
      "  3.60505486e-02 5.92010546e-01 4.92377814e-01 8.52442046e-01\n",
      "  4.91417626e-01 2.77621415e-01 2.81458945e-01 3.30772399e-01\n",
      "  8.23750709e-01 4.53669898e-01 9.27914789e-01 4.72765606e-02]\n",
      " [9.98165732e-01 7.94714694e-01 9.68421874e-01 8.21767714e-01\n",
      "  6.69123828e-01 1.21004414e-02 5.06917249e-01 4.23618510e-01\n",
      "  5.87029735e-01 9.29220826e-01 9.23356346e-01 3.55780052e-01\n",
      "  3.07529756e-01 5.97417217e-01 7.87017994e-01 5.06967400e-01\n",
      "  5.82713539e-01 2.96571214e-01 9.40460605e-01 7.32715530e-01]\n",
      " [1.12189164e-01 8.94461021e-01 9.51180879e-01 2.88890217e-01\n",
      "  7.14626888e-01 6.31544990e-01 5.89115576e-01 2.11857835e-01\n",
      "  6.56241701e-02 4.47901995e-04 1.70818780e-01 6.33459886e-01\n",
      "  9.42688353e-02 6.55103542e-03 5.81216358e-01 3.45694764e-01\n",
      "  2.26271408e-01 9.00949934e-01 6.64445572e-01 1.02754252e-01]\n",
      " [7.76059677e-01 7.44605739e-01 3.25542749e-01 1.95656882e-01\n",
      "  3.27881564e-01 2.98593332e-01 5.33168993e-01 3.17550426e-01\n",
      "  2.44206872e-01 6.26706193e-01 5.86483992e-01 5.55516892e-01\n",
      "  2.23226500e-01 6.09961791e-01 2.32316715e-01 8.81835902e-01\n",
      "  2.70203423e-01 9.34685289e-01 5.84432216e-01 7.82165706e-01]\n",
      " [5.27945313e-01 8.43444472e-01 7.56490820e-01 7.22523780e-01\n",
      "  8.01682082e-01 1.67255937e-01 9.81255185e-01 5.05452514e-01\n",
      "  9.98298958e-01 9.76787908e-01 5.95088214e-01 7.98630604e-01\n",
      "  9.42520484e-01 7.24233316e-02 5.54130840e-01 8.33706570e-01\n",
      "  2.34043118e-01 9.01393478e-01 4.27869020e-01 2.62923140e-01]\n",
      " [4.75954109e-02 2.30711455e-01 8.20483701e-01 7.02216236e-01\n",
      "  7.15239358e-01 6.71381367e-01 4.23178576e-01 5.43253881e-01\n",
      "  7.36041533e-02 2.62414886e-01 9.23182747e-01 3.82818199e-02\n",
      "  7.67939372e-02 6.05158086e-01 3.86119972e-01 1.94586230e-03\n",
      "  4.82660288e-01 4.90841352e-01 8.75658367e-01 9.89812673e-01]\n",
      " [6.99465270e-01 5.00501626e-02 6.05340191e-01 4.62234028e-01\n",
      "  8.05294629e-01 9.95426724e-01 6.21398473e-01 4.56073366e-01\n",
      "  2.38619498e-01 2.50994352e-01 1.14996904e-02 9.90682437e-01\n",
      "  7.26285785e-01 3.10738375e-01 9.39048728e-01 9.58996770e-01\n",
      "  7.42282398e-01 1.40951073e-01 7.38806900e-01 6.21973154e-01]\n",
      " [2.87308899e-01 5.67843908e-01 7.28994234e-01 7.60159555e-01\n",
      "  3.79707587e-01 8.96995701e-01 9.03809920e-01 5.14879276e-01\n",
      "  9.30534129e-01 2.62591281e-01 5.73489453e-02 8.31918443e-01\n",
      "  8.05694084e-01 6.94078009e-01 9.91693070e-03 6.10194737e-01\n",
      "  5.87440866e-01 8.20875671e-01 2.05010357e-01 3.81048763e-01]\n",
      " [8.69685673e-01 9.33753337e-01 8.38639272e-01 2.88907133e-01\n",
      "  3.64317839e-01 3.44069629e-01 8.19315979e-01 4.19330708e-01\n",
      "  5.98509184e-01 2.28764997e-02 3.46015300e-01 6.74425277e-01\n",
      "  3.90208026e-01 9.28685921e-01 5.09368994e-01 9.65214520e-01\n",
      "  3.85584782e-01 4.53758643e-01 6.47050432e-01 9.41239832e-01]\n",
      " [7.17268805e-01 6.81472204e-01 2.21732258e-01 1.13865796e-01\n",
      "  7.57003041e-01 8.17284375e-01 1.91775139e-01 5.25210155e-01\n",
      "  6.50637455e-01 5.75376248e-01 6.79557354e-01 7.13998029e-01\n",
      "  8.11960085e-01 1.42916882e-01 8.95637403e-01 3.86438694e-01\n",
      "  8.46825938e-01 2.52978115e-01 2.22407849e-01 6.53119361e-01]]\n",
      "[[0.53828357 0.18162283 0.87402219 0.98966603 0.23090663 0.06907948\n",
      "  0.07528675 0.28448856 0.85616779 0.47032584 0.19271478 0.7733639\n",
      "  0.34117146 0.64699715 0.08414396 0.69880386 0.97266117 0.12904193\n",
      "  0.51094297 0.91630403]\n",
      " [0.58942631 0.6232048  0.9467674  0.80912221 0.37604934 0.19483466\n",
      "  0.29403654 0.41685248 0.320353   0.14025918 0.92593041 0.10632896\n",
      "  0.16029853 0.35287196 0.66635322 0.48149553 0.39075225 0.17811226\n",
      "  0.12882735 0.52046958]\n",
      " [0.9335152  0.25623176 0.02432001 0.38523839 0.80896695 0.41866767\n",
      "  0.06608014 0.82229968 0.75038355 0.35616505 0.43910046 0.58112955\n",
      "  0.55296616 0.77454416 0.27162596 0.62299406 0.57437182 0.6681227\n",
      "  0.76541976 0.22430062]\n",
      " [0.41158404 0.85307958 0.86124662 0.58039118 0.54895277 0.51708209\n",
      "  0.29634712 0.31861919 0.70155465 0.10401042 0.26877307 0.72332334\n",
      "  0.4951593  0.43421964 0.26626919 0.43773147 0.71714625 0.19759255\n",
      "  0.89369594 0.46512474]\n",
      " [0.54111573 0.31969934 0.04080603 0.44842648 0.31276784 0.48090516\n",
      "  0.60470502 0.14340001 0.92064305 0.30866794 0.27482004 0.39646131\n",
      "  0.72411244 0.57637153 0.21225241 0.73036514 0.92745732 0.88803993\n",
      "  0.39547705 0.61120235]\n",
      " [0.14996269 0.19728665 0.6239928  0.05315891 0.29091763 0.57230395\n",
      "  0.21887242 0.40601918 0.64026939 0.81656779 0.79974799 0.54200052\n",
      "  0.0795423  0.26100857 0.38152268 0.40562493 0.01041564 0.51782911\n",
      "  0.57518892 0.19607015]\n",
      " [0.68428554 0.74934927 0.93867692 0.71114379 0.37440313 0.21461051\n",
      "  0.74952807 0.84744045 0.42266677 0.45349754 0.98151962 0.52804368\n",
      "  0.55029108 0.91329987 0.99917248 0.81487774 0.37819732 0.70506216\n",
      "  0.78572981 0.72180937]\n",
      " [0.35813217 0.24980914 0.05387881 0.48096584 0.55072699 0.30081282\n",
      "  0.23252849 0.92563063 0.35006037 0.42659016 0.55650049 0.04489087\n",
      "  0.99475678 0.67401765 0.85909308 0.20747014 0.74999229 0.97879513\n",
      "  0.07177033 0.54176079]\n",
      " [0.64941403 0.7955816  0.52470311 0.16845799 0.39467256 0.44139076\n",
      "  0.96371164 0.16838821 0.77636402 0.45802602 0.19164086 0.24919393\n",
      "  0.41300791 0.14681946 0.53411444 0.90940205 0.90550179 0.99523537\n",
      "  0.88893103 0.09343414]\n",
      " [0.24438758 0.64358981 0.91344927 0.59165022 0.01146554 0.81425623\n",
      "  0.51920497 0.5927857  0.67937747 0.14461845 0.65345587 0.17034779\n",
      "  0.19131588 0.97679795 0.17586954 0.64871147 0.87080748 0.56345453\n",
      "  0.30906661 0.04365996]\n",
      " [0.15170747 0.41575588 0.73399514 0.31346645 0.81956498 0.1618671\n",
      "  0.18220734 0.01324382 0.9232425  0.14797576 0.62927292 0.68201868\n",
      "  0.77564329 0.62010827 0.80679808 0.43789703 0.84778187 0.42739833\n",
      "  0.68203703 0.00549907]\n",
      " [0.04342091 0.61430353 0.78215547 0.21836024 0.56093927 0.71062528\n",
      "  0.65662425 0.03560629 0.59050418 0.93629947 0.29871544 0.56201717\n",
      "  0.11692748 0.58194812 0.36223275 0.52883776 0.10240731 0.77147272\n",
      "  0.87564757 0.2253953 ]\n",
      " [0.20018184 0.16880647 0.53080988 0.32079402 0.72361935 0.34169428\n",
      "  0.4151198  0.8243291  0.36296418 0.72215318 0.99957414 0.68242217\n",
      "  0.07642112 0.07755339 0.4318694  0.66792634 0.59412624 0.91174069\n",
      "  0.38020926 0.17901757]\n",
      " [0.56219981 0.36975693 0.2865831  0.78610914 0.03754704 0.06447004\n",
      "  0.38313302 0.07705226 0.50311046 0.34872594 0.3688309  0.9384571\n",
      "  0.24282924 0.57195335 0.25151761 0.87031741 0.97806646 0.62347815\n",
      "  0.00121032 0.17386573]\n",
      " [0.41039431 0.7429659  0.58129588 0.12361533 0.61730621 0.63596312\n",
      "  0.51560411 0.25691303 0.15244308 0.25861565 0.18201158 0.17462352\n",
      "  0.63214061 0.61391111 0.03761299 0.15665288 0.74838008 0.10059515\n",
      "  0.29841794 0.61262779]\n",
      " [0.13446712 0.59856953 0.01754105 0.08114297 0.80349614 0.91984031\n",
      "  0.67077203 0.37040616 0.89096134 0.6724691  0.86532197 0.27277549\n",
      "  0.94754722 0.83512093 0.42234985 0.68965418 0.9918725  0.80152155\n",
      "  0.3755428  0.57561054]\n",
      " [0.59404373 0.4394718  0.12258611 0.37098926 0.29446203 0.49278661\n",
      "  0.55255943 0.84275344 0.33725977 0.01319216 0.17915648 0.92375244\n",
      "  0.67990801 0.08151635 0.11331187 0.38111513 0.24843549 0.90443478\n",
      "  0.84278891 0.7404676 ]\n",
      " [0.20201568 0.59407921 0.37705301 0.51585625 0.37551689 0.84154201\n",
      "  0.30091355 0.49450569 0.23817279 0.07219699 0.12921455 0.42474813\n",
      "  0.15230783 0.71073143 0.38891617 0.26522398 0.64102675 0.24802381\n",
      "  0.77215467 0.06837817]\n",
      " [0.51956692 0.9514576  0.65349164 0.07785317 0.07220943 0.49772354\n",
      "  0.99571451 0.62207908 0.76556219 0.11746829 0.84849071 0.9296404\n",
      "  0.03029594 0.39725132 0.91078661 0.98357322 0.59162092 0.77513166\n",
      "  0.33303138 0.62710479]\n",
      " [0.8400005  0.14464538 0.55322613 0.14501098 0.54947452 0.71059932\n",
      "  0.62348502 0.28555415 0.68814992 0.51215164 0.87132416 0.21125797\n",
      "  0.20644818 0.12119478 0.24934536 0.98532842 0.66547655 0.7934677\n",
      "  0.15026052 0.77326132]]\n"
     ]
    }
   ],
   "source": [
    "a=np.random.rand(20,20)\n",
    "b=np.random.rand(20,20)\n",
    "print(a)\n",
    "print(b)"
   ]
  },
  {
   "cell_type": "code",
   "execution_count": 96,
   "metadata": {},
   "outputs": [
    {
     "data": {
      "text/plain": [
       "7.65853652892395"
      ]
     },
     "execution_count": 96,
     "metadata": {},
     "output_type": "execute_result"
    }
   ],
   "source": [
    "def l2_dist(a, b):\n",
    "    result = ((a - b) * (a - b)).sum()\n",
    "    result = result ** 0.5\n",
    "    return result\n",
    "l2_dist(a.T,b.T)"
   ]
  },
  {
   "cell_type": "code",
   "execution_count": 97,
   "metadata": {},
   "outputs": [],
   "source": [
    "a3 = np.array([[1, 2, 3, 4]])\n",
    "a4 = np.arange(1, 4, 1)"
   ]
  },
  {
   "cell_type": "code",
   "execution_count": 98,
   "metadata": {},
   "outputs": [
    {
     "data": {
      "text/plain": [
       "(1, 4)"
      ]
     },
     "execution_count": 98,
     "metadata": {},
     "output_type": "execute_result"
    }
   ],
   "source": [
    "a3.shape"
   ]
  },
  {
   "cell_type": "code",
   "execution_count": 99,
   "metadata": {},
   "outputs": [
    {
     "data": {
      "text/plain": [
       "(3,)"
      ]
     },
     "execution_count": 99,
     "metadata": {},
     "output_type": "execute_result"
    }
   ],
   "source": [
    "a4.shape"
   ]
  },
  {
   "cell_type": "code",
   "execution_count": 100,
   "metadata": {},
   "outputs": [],
   "source": [
    "a1 = np.random.rand(4)\n",
    "a2 = np.random.rand(4, 1)"
   ]
  },
  {
   "cell_type": "code",
   "execution_count": 101,
   "metadata": {},
   "outputs": [
    {
     "data": {
      "text/plain": [
       "(4,)"
      ]
     },
     "execution_count": 101,
     "metadata": {},
     "output_type": "execute_result"
    }
   ],
   "source": [
    "a1.shape"
   ]
  },
  {
   "cell_type": "code",
   "execution_count": 102,
   "metadata": {},
   "outputs": [
    {
     "data": {
      "text/plain": [
       "(4, 1)"
      ]
     },
     "execution_count": 102,
     "metadata": {},
     "output_type": "execute_result"
    }
   ],
   "source": [
    "a2.shape"
   ]
  },
  {
   "cell_type": "code",
   "execution_count": 103,
   "metadata": {},
   "outputs": [
    {
     "data": {
      "text/plain": [
       "(4,)"
      ]
     },
     "execution_count": 103,
     "metadata": {},
     "output_type": "execute_result"
    }
   ],
   "source": [
    "a5 = np.linspace(1 ,4, 4)\n",
    "a5.shape"
   ]
  },
  {
   "cell_type": "code",
   "execution_count": 104,
   "metadata": {},
   "outputs": [
    {
     "name": "stdout",
     "output_type": "stream",
     "text": [
      "[[0 0 1]\n",
      " [1 1 1]]\n"
     ]
    }
   ],
   "source": [
    "import numpy as np\n",
    "\n",
    "old = np.array([[1, 1, 1], [1, 1, 1]])\n",
    "new = old\n",
    "new[0, :2] = 0\n",
    "print(old)\n",
    "\n",
    "\n",
    "\n"
   ]
  },
  {
   "cell_type": "code",
   "execution_count": 106,
   "metadata": {},
   "outputs": [
    {
     "data": {
      "text/plain": [
       "['A']"
      ]
     },
     "execution_count": 106,
     "metadata": {},
     "output_type": "execute_result"
    }
   ],
   "source": [
    "import re\n",
    "s = 'ACBCAC'\n",
    "re.findall(\"^[AC]\",s)"
   ]
  },
  {
   "cell_type": "code",
   "execution_count": null,
   "metadata": {},
   "outputs": [],
   "source": []
  },
  {
   "cell_type": "code",
   "execution_count": 109,
   "metadata": {},
   "outputs": [
    {
     "data": {
      "text/plain": [
       "5"
      ]
     },
     "execution_count": 109,
     "metadata": {},
     "output_type": "execute_result"
    }
   ],
   "source": [
    "import re\n",
    "\n",
    "s = 'ACAABAACAAAB'\n",
    "result = re.findall('A{1,2}', s)\n",
    "L = len(result)\n",
    "\n",
    "L\n",
    "\n"
   ]
  },
  {
   "cell_type": "code",
   "execution_count": 112,
   "metadata": {},
   "outputs": [],
   "source": [
    "s='''Office of Research Administration: (734) 647-6333 | 4325 North Quad\n",
    "Office of Budget and Financial Administration: (734) 647-8044 | 309 Maynard, Suite 205\n",
    "Health Informatics Program: (734) 763-2285 | 333 Maynard, Suite 500\n",
    "Office of the Dean: (734) 647-3576 | 4322 North Quad\n",
    "UMSI Engagement Center: (734) 763-1251 | 777 North University\n",
    "Faculty Adminstrative Support Staff: (734) 764-9376 | 4322 North Quad'''"
   ]
  },
  {
   "cell_type": "code",
   "execution_count": 113,
   "metadata": {},
   "outputs": [],
   "source": [
    "text=r'''Everyone has the following fundamental freedoms:\n",
    "(a) freedom of conscience and religion;\n",
    "(b) freedom of thought, belief, opinion and expression, including freedom of the press and other media of communication;\n",
    "(c) freedom of peaceful assembly; and\n",
    "(d) freedom of association.\n",
    "'''"
   ]
  },
  {
   "cell_type": "code",
   "execution_count": 118,
   "metadata": {},
   "outputs": [
    {
     "name": "stdout",
     "output_type": "stream",
     "text": [
      "['O', 'f', 'f', 'i', 'c', 'e', ' ', 'o', 'f', ' ', 'R', 'e', 's', 'e', 'a', 'r', 'c', 'h', ' ', 'A', 'd', 'm', 'i', 'n', 'i', 's', 't', 'r', 'a', 't', 'i', 'o', 'n', ':', ' ', '(', '7', '3', '4', ')', ' ', '6', '4', '7', '-', '6', '3', '3', '3', ' ', '|', ' ', '4', '3', '2', '5', ' ', 'N', 'o', 'r', 't', 'h', ' ', 'Q', 'u', 'a', 'd', 'O', 'f', 'f', 'i', 'c', 'e', ' ', 'o', 'f', ' ', 'B', 'u', 'd', 'g', 'e', 't', ' ', 'a', 'n', 'd', ' ', 'F', 'i', 'n', 'a', 'n', 'c', 'i', 'a', 'l', ' ', 'A', 'd', 'm', 'i', 'n', 'i', 's', 't', 'r', 'a', 't', 'i', 'o', 'n', ':', ' ', '(', '7', '3', '4', ')', ' ', '6', '4', '7', '-', '8', '0', '4', '4', ' ', '|', ' ', '3', '0', '9', ' ', 'M', 'a', 'y', 'n', 'a', 'r', 'd', ',', ' ', 'S', 'u', 'i', 't', 'e', ' ', '2', '0', '5', 'H', 'e', 'a', 'l', 't', 'h', ' ', 'I', 'n', 'f', 'o', 'r', 'm', 'a', 't', 'i', 'c', 's', ' ', 'P', 'r', 'o', 'g', 'r', 'a', 'm', ':', ' ', '(', '7', '3', '4', ')', ' ', '7', '6', '3', '-', '2', '2', '8', '5', ' ', '|', ' ', '3', '3', '3', ' ', 'M', 'a', 'y', 'n', 'a', 'r', 'd', ',', ' ', 'S', 'u', 'i', 't', 'e', ' ', '5', '0', '0', 'O', 'f', 'f', 'i', 'c', 'e', ' ', 'o', 'f', ' ', 't', 'h', 'e', ' ', 'D', 'e', 'a', 'n', ':', ' ', '(', '7', '3', '4', ')', ' ', '6', '4', '7', '-', '3', '5', '7', '6', ' ', '|', ' ', '4', '3', '2', '2', ' ', 'N', 'o', 'r', 't', 'h', ' ', 'Q', 'u', 'a', 'd', 'U', 'M', 'S', 'I', ' ', 'E', 'n', 'g', 'a', 'g', 'e', 'm', 'e', 'n', 't', ' ', 'C', 'e', 'n', 't', 'e', 'r', ':', ' ', '(', '7', '3', '4', ')', ' ', '7', '6', '3', '-', '1', '2', '5', '1', ' ', '|', ' ', '7', '7', '7', ' ', 'N', 'o', 'r', 't', 'h', ' ', 'U', 'n', 'i', 'v', 'e', 'r', 's', 'i', 't', 'y', 'F', 'a', 'c', 'u', 'l', 't', 'y', ' ', 'A', 'd', 'm', 'i', 'n', 's', 't', 'r', 'a', 't', 'i', 'v', 'e', ' ', 'S', 'u', 'p', 'p', 'o', 'r', 't', ' ', 'S', 't', 'a', 'f', 'f', ':', ' ', '(', '7', '3', '4', ')', ' ', '7', '6', '4', '-', '9', '3', '7', '6', ' ', '|', ' ', '4', '3', '2', '2', ' ', 'N', 'o', 'r', 't', 'h', ' ', 'Q', 'u', 'a', 'd']\n"
     ]
    }
   ],
   "source": [
    "import re\n",
    "\n",
    "pattern = '[]'\n",
    "print((re.findall(pattern,s)))\n",
    "\n",
    "\n",
    "\n"
   ]
  },
  {
   "cell_type": "code",
   "execution_count": null,
   "metadata": {},
   "outputs": [],
   "source": []
  }
 ],
 "metadata": {
  "kernelspec": {
   "display_name": "Python 3",
   "language": "python",
   "name": "python3"
  },
  "language_info": {
   "codemirror_mode": {
    "name": "ipython",
    "version": 3
   },
   "file_extension": ".py",
   "mimetype": "text/x-python",
   "name": "python",
   "nbconvert_exporter": "python",
   "pygments_lexer": "ipython3",
   "version": "3.7.6"
  }
 },
 "nbformat": 4,
 "nbformat_minor": 2
}
